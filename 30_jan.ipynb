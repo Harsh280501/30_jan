{
 "cells": [
  {
   "cell_type": "markdown",
   "id": "ec4e4157-7052-442a-b7ca-91bbbc5e81d0",
   "metadata": {},
   "source": [
    "# Q1 Write a program  to accept percentage from the user and dislpay the grade according to the following criteria :\n"
   ]
  },
  {
   "cell_type": "code",
   "execution_count": 6,
   "id": "bd513198-4073-45fd-b6b6-5603d68510d4",
   "metadata": {},
   "outputs": [
    {
     "name": "stdin",
     "output_type": "stream",
     "text": [
      "Enter the percentage 92\n"
     ]
    },
    {
     "name": "stdout",
     "output_type": "stream",
     "text": [
      "The grade is \"A\"\n"
     ]
    }
   ],
   "source": [
    "percentage = float(input(\"Enter the percentage\"))\n",
    "\n",
    "if percentage > 90.0 : \n",
    "    \n",
    "    print('The grade is \"A\"')\n",
    "    \n",
    "    \n",
    "elif percentage > 80 and percentage <= 90 :\n",
    "    \n",
    "    print('The grade is \"B\"')\n",
    "\n",
    "elif percentage >= 60 and percentage <=80 :\n",
    "    \n",
    "    print('The grade is \"C\"')\n",
    "    \n",
    "else :\n",
    "    \n",
    "    print('The grade is \"D\"')"
   ]
  },
  {
   "cell_type": "markdown",
   "id": "2975b3d1-2d0f-4822-be9f-7fbefcacc463",
   "metadata": {},
   "source": [
    "# Q2 Write a program to accept the cost price of a bike and display the road tax to be paid according to the following critria :"
   ]
  },
  {
   "cell_type": "code",
   "execution_count": 8,
   "id": "b63e8756-c7e4-4eae-a566-1e1d5afdaaaf",
   "metadata": {},
   "outputs": [
    {
     "name": "stdin",
     "output_type": "stream",
     "text": [
      "Enter the price of the bike 110000\n"
     ]
    },
    {
     "name": "stdout",
     "output_type": "stream",
     "text": [
      "The tax should be paid is :  16500.0\n"
     ]
    }
   ],
   "source": [
    "bike_price = int(input(\"Enter the price of the bike\"))\n",
    "\n",
    "if bike_price > 100000 :\n",
    "    \n",
    "    tax = (bike_price *15)/100\n",
    "    \n",
    "elif bike_price > 50000 and bike_price <= 100000:\n",
    "    \n",
    "    tax = (bike_price*10)/100\n",
    "    \n",
    "else :\n",
    "    tax = (bike_price*5)/100\n",
    "    \n",
    "\n",
    "print(\"The tax should be paid is : \", tax)"
   ]
  },
  {
   "cell_type": "markdown",
   "id": "2737ab25-a23c-49cf-a9c4-627dea708697",
   "metadata": {},
   "source": [
    "# Q3 Accept any city from the user and display monumnets of that city"
   ]
  },
  {
   "cell_type": "code",
   "execution_count": 14,
   "id": "586b1f9a-39d3-4f5b-81b8-269c6fcba608",
   "metadata": {},
   "outputs": [
    {
     "name": "stdin",
     "output_type": "stream",
     "text": [
      "Enter the name of the city from the following list\n",
      " 1) Delhi \n",
      " 2)Agra \n",
      " 3)Jaipur\n",
      " Delhi\n"
     ]
    },
    {
     "name": "stdout",
     "output_type": "stream",
     "text": [
      "Monument in Delhi is --> Red Fort\n"
     ]
    }
   ],
   "source": [
    "city_name = str(input(\"Enter the name of the city from the following list\\n 1) Delhi \\n 2)Agra \\n 3)Jaipur\\n\"))\n",
    "city_list = [\"Delhi\",\"Agra\",\"Jaipur\"]\n",
    "    \n",
    "if city_name == \"Delhi\" :\n",
    "    print(\"Monument in Delhi is --> Red Fort\")\n",
    "\n",
    "elif city_name == \"Agra\" :\n",
    "    print(\"Monument in Agra is --> Taj Mahal\")\n",
    "    \n",
    "elif city_name == \"Jaipur\" :\n",
    "    print(\"Monument in Jaipur is --> Jal Mahal\")\n",
    "    \n",
    "else : \n",
    "    print(\"Enter the name from the list only !!!\")\n",
    "    "
   ]
  },
  {
   "cell_type": "markdown",
   "id": "c5311553-e155-4532-81cf-fb0ce97c0def",
   "metadata": {},
   "source": [
    "# Q4 Check how many times a given number can be divisible by 3 before it is less than or equal to 10."
   ]
  },
  {
   "cell_type": "code",
   "execution_count": 21,
   "id": "cfba9055-dae7-443e-a732-78670757b6b8",
   "metadata": {},
   "outputs": [
    {
     "name": "stdin",
     "output_type": "stream",
     "text": [
      "Enter a number : 729\n"
     ]
    },
    {
     "name": "stdout",
     "output_type": "stream",
     "text": [
      "The number of times a number is divisible by 3 is  4\n"
     ]
    }
   ],
   "source": [
    "num = int(input(\"Enter a number :\"))\n",
    "\n",
    "count = 0\n",
    "while num >= 10 :\n",
    "    \n",
    "    num = num / 3\n",
    "    count+= 1\n",
    "\n",
    "    \n",
    "print(\"The number of times a number is divisible by 3 is \" , count)\n"
   ]
  },
  {
   "cell_type": "markdown",
   "id": "d0e72b33-b014-43cd-a067-09533d6bc206",
   "metadata": {},
   "source": [
    "# Q5 Why and when to use while loop in python give a detailed description with example"
   ]
  },
  {
   "cell_type": "code",
   "execution_count": 23,
   "id": "5f70e234-5e05-4eb5-bce1-6f60bb50147a",
   "metadata": {},
   "outputs": [
    {
     "name": "stdout",
     "output_type": "stream",
     "text": [
      "Hello World\n",
      "Hello World\n",
      "Hello World\n"
     ]
    }
   ],
   "source": [
    "'''\n",
    "   Python While Loop is used to execute a block of statements repeatedly until a given condition is satisfied. \n",
    "   And when the condition becomes false, the line immediately after the loop in the program is executed.\n",
    "'''\n",
    "\n",
    "# Example \n",
    "\n",
    "\n",
    "count = 0\n",
    "while (count < 3):\n",
    "\tcount = count + 1\n",
    "\tprint(\"Hello World\")\n"
   ]
  },
  {
   "cell_type": "markdown",
   "id": "ca8946ef-c414-4069-9bc4-6b7ec0c183ae",
   "metadata": {},
   "source": [
    "# Q6 Use nested while loop to print 3 different patterns"
   ]
  },
  {
   "cell_type": "code",
   "execution_count": 26,
   "id": "d02aae2f-9abf-4036-8e40-ac2ec12111ba",
   "metadata": {},
   "outputs": [
    {
     "name": "stdin",
     "output_type": "stream",
     "text": [
      "Enter number of rows :  3\n"
     ]
    },
    {
     "name": "stdout",
     "output_type": "stream",
     "text": [
      "* \n",
      "* * \n",
      "* * * \n"
     ]
    }
   ],
   "source": [
    "# 1st Pattern\n",
    "\n",
    "n = int(input('Enter number of rows : '))\n",
    " \n",
    "i = 1\n",
    "while i <= n :\n",
    "    j = 1\n",
    "    while j <= i:\n",
    "        print(\"*\", end = \" \")\n",
    "        j += 1\n",
    "    print()\n",
    "    i += 1\n"
   ]
  },
  {
   "cell_type": "code",
   "execution_count": 27,
   "id": "5e78146b-71a5-4051-9714-ad3e09c81b2b",
   "metadata": {},
   "outputs": [
    {
     "name": "stdin",
     "output_type": "stream",
     "text": [
      "Enter number of rows :  3\n"
     ]
    },
    {
     "name": "stdout",
     "output_type": "stream",
     "text": [
      "* * * \n",
      "* * \n",
      "* \n"
     ]
    }
   ],
   "source": [
    "# 2nd Pattern\n",
    "\n",
    "n = int(input('Enter number of rows : '))\n",
    " \n",
    "i = 1\n",
    "while i <= n :\n",
    "    j = n\n",
    "    while j >= i:\n",
    "        print(\"*\", end = \" \")\n",
    "        j -= 1\n",
    "    print()\n",
    "    i += 1\n",
    "    "
   ]
  },
  {
   "cell_type": "code",
   "execution_count": 30,
   "id": "92146555-1900-4058-b2e2-0ff9fed3f3d4",
   "metadata": {},
   "outputs": [
    {
     "name": "stdin",
     "output_type": "stream",
     "text": [
      "Enter number of rows :  3\n"
     ]
    },
    {
     "name": "stdout",
     "output_type": "stream",
     "text": [
      "  1 \n",
      "  2   3 \n",
      "  4   5   6 \n"
     ]
    }
   ],
   "source": [
    "# 3rd Pattern\n",
    "\n",
    "n = int(input('Enter number of rows : '))\n",
    " \n",
    "k = 1\n",
    "i = 1\n",
    "while i <= n :\n",
    "    j = 1\n",
    "    while j <= i:\n",
    "        print(\"{:3d}\".format(k), end = \" \")\n",
    "        j += 1\n",
    "        k += 1\n",
    "    print()\n",
    "    i += 1"
   ]
  },
  {
   "cell_type": "markdown",
   "id": "bf41bbcc-f5c1-4324-9766-8ea6c9636ba2",
   "metadata": {},
   "source": [
    "# Q7 Reverse a while loop to print numbers from 10 to 1"
   ]
  },
  {
   "cell_type": "code",
   "execution_count": 34,
   "id": "a3eeaa0b-5f9a-4463-8a23-2764f409042f",
   "metadata": {},
   "outputs": [
    {
     "name": "stdout",
     "output_type": "stream",
     "text": [
      "10\n",
      "9\n",
      "8\n",
      "7\n",
      "6\n",
      "5\n",
      "4\n",
      "3\n",
      "2\n",
      "1\n"
     ]
    }
   ],
   "source": [
    "i = 10\n",
    "while i > 0:\n",
    "    \n",
    "    print(i)\n",
    "    i-= 1\n"
   ]
  },
  {
   "cell_type": "markdown",
   "id": "2f587ca1-43bd-400f-9955-383efd697d3f",
   "metadata": {},
   "source": [
    "# Q8 Reverse a while loop to print numbers from 10 to 1"
   ]
  },
  {
   "cell_type": "code",
   "execution_count": 36,
   "id": "f526b4ca-6c1f-4ba0-bd3c-86aa342035f6",
   "metadata": {},
   "outputs": [
    {
     "name": "stdout",
     "output_type": "stream",
     "text": [
      "10\n",
      "9\n",
      "8\n",
      "7\n",
      "6\n",
      "5\n",
      "4\n",
      "3\n",
      "2\n",
      "1\n"
     ]
    }
   ],
   "source": [
    "i = 10\n",
    "while i > 0:\n",
    "    \n",
    "    print(i)\n",
    "    i-= 1"
   ]
  },
  {
   "cell_type": "code",
   "execution_count": null,
   "id": "96f4148f-9559-48d5-9329-fddabe7867d7",
   "metadata": {},
   "outputs": [],
   "source": []
  }
 ],
 "metadata": {
  "kernelspec": {
   "display_name": "Python 3 (ipykernel)",
   "language": "python",
   "name": "python3"
  },
  "language_info": {
   "codemirror_mode": {
    "name": "ipython",
    "version": 3
   },
   "file_extension": ".py",
   "mimetype": "text/x-python",
   "name": "python",
   "nbconvert_exporter": "python",
   "pygments_lexer": "ipython3",
   "version": "3.10.8"
  }
 },
 "nbformat": 4,
 "nbformat_minor": 5
}
